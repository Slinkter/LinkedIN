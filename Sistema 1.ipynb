{
 "cells": [
  {
   "cell_type": "markdown",
   "metadata": {},
   "source": [
    "# Librerias"
   ]
  },
  {
   "cell_type": "code",
   "execution_count": 1,
   "metadata": {
    "collapsed": true
   },
   "outputs": [],
   "source": [
    "#Support Vector Machine - Kernel Lineal\n",
    "#Iniciar tiempo\n",
    "import time\n",
    "start_time = time.time()\n",
    "#Liberia Princiaples\n",
    "import numpy as np                # Array y Matrix\n",
    "import matplotlib.pyplot as plt   # Para mostar imagenes                     \n",
    "#Liberia Auxiliares\n",
    "import os\n",
    "import sys\n",
    "import gzip\n",
    "# Libreria Sklearn\n",
    "from sklearn import svm\n",
    "from skimage.feature import hog\n",
    "from sklearn.metrics import accuracy_score\n",
    "from sklearn import metrics\n",
    "from sklearn.externals import joblib"
   ]
  },
  {
   "cell_type": "markdown",
   "metadata": {},
   "source": [
    "# Funcion  MNIST"
   ]
  },
  {
   "cell_type": "code",
   "execution_count": 2,
   "metadata": {
    "collapsed": true
   },
   "outputs": [],
   "source": [
    "def load_dataset():    \n",
    "    if sys.version_info[0] == 2:\n",
    "        from urllib import urlretrieve\n",
    "    else:\n",
    "        from urllib.request import urlretrieve\n",
    "    def download(filename, source='http://yann.lecun.com/exdb/mnist/'):\n",
    "        print(\"Downloading %s\" % filename)\n",
    "        urlretrieve(source + filename, filename)\n",
    "    def load_mnist_images(filename):\n",
    "        if not os.path.exists(filename):\n",
    "            download(filename)        \n",
    "        with gzip.open(filename, 'rb') as f:\n",
    "            data = np.frombuffer(f.read(), np.uint8, offset=16)        \n",
    "        data = data.reshape(-1, 1, 28, 28)\n",
    "        return data / np.float32(1)\n",
    "    def load_mnist_labels(filename):\n",
    "        if not os.path.exists(filename):\n",
    "            download(filename)        \n",
    "        with gzip.open(filename, 'rb') as f:\n",
    "            data = np.frombuffer(f.read(), np.uint8, offset=8)        \n",
    "        return data\n",
    "    # Conjuento de Entranamiento (Imagnes , Etiqueta)\n",
    "    X_train = load_mnist_images('train-images-idx3-ubyte.gz')\n",
    "    y_train = load_mnist_labels('train-labels-idx1-ubyte.gz')\n",
    "    # Conjuento de prueba (Imagnes , Etiqueta)\n",
    "    X_test = load_mnist_images('t10k-images-idx3-ubyte.gz')\n",
    "    y_test = load_mnist_labels('t10k-labels-idx1-ubyte.gz')\n",
    "    #\n",
    "    X_train = X_train.reshape(X_train.shape[0], 28 * 28)\n",
    "    X_test = X_test.reshape(X_test.shape[0], 28 * 28)  \n",
    "    return X_train, y_train, X_test, y_test"
   ]
  },
  {
   "cell_type": "markdown",
   "metadata": {},
   "source": [
    "# Extraccion de DB MNIST"
   ]
  },
  {
   "cell_type": "code",
   "execution_count": 3,
   "metadata": {
    "collapsed": false
   },
   "outputs": [
    {
     "name": "stdout",
     "output_type": "stream",
     "text": [
      "Downloading train-images-idx3-ubyte.gz\n",
      "Downloading train-labels-idx1-ubyte.gz\n",
      "Downloading t10k-images-idx3-ubyte.gz\n",
      "Downloading t10k-labels-idx1-ubyte.gz\n"
     ]
    }
   ],
   "source": [
    "X_train, y_train, X_test, y_test = load_dataset()"
   ]
  },
  {
   "cell_type": "code",
   "execution_count": 6,
   "metadata": {
    "collapsed": false
   },
   "outputs": [
    {
     "name": "stdout",
     "output_type": "stream",
     "text": [
      "Entranamiento   = 60000\n",
      "Prueba          = 10000\n"
     ]
    }
   ],
   "source": [
    "set1 = str(int(len(X_train)))\n",
    "set2 = str(int(len(X_test)))\n",
    "print(\"Entranamiento   = %s\"%set1)\n",
    "print(\"Prueba          = %s\"%set2)"
   ]
  },
  {
   "cell_type": "markdown",
   "metadata": {},
   "source": [
    "# Usar solo 10,000 de 60,000"
   ]
  },
  {
   "cell_type": "code",
   "execution_count": 8,
   "metadata": {
    "collapsed": true
   },
   "outputs": [],
   "source": [
    "max_examples = 10000"
   ]
  },
  {
   "cell_type": "code",
   "execution_count": 9,
   "metadata": {
    "collapsed": false
   },
   "outputs": [],
   "source": [
    "features = np.array(X_train[:max_examples], 'int16') \n",
    "labels = np.array(y_train[:max_examples], 'int')\n",
    "\n",
    "test_features = np.array(X_test, 'int16') \n",
    "test_labels = np.array(y_test, 'int')"
   ]
  },
  {
   "cell_type": "markdown",
   "metadata": {},
   "source": [
    "# Funcion HOG"
   ]
  },
  {
   "cell_type": "code",
   "execution_count": 10,
   "metadata": {
    "collapsed": true
   },
   "outputs": [],
   "source": [
    "list_hog_fd = []\n",
    "for feature in features:\n",
    "    fd = hog(feature.reshape((28, 28)), orientations=9, pixels_per_cell=(14, 14), cells_per_block=(1, 1), visualise=False)\n",
    "    list_hog_fd.append(fd)\n",
    "hog_features = np.array(list_hog_fd, 'float64')\n",
    "a = hog_features\n",
    "\n",
    "list_hog_fd2 = []\n",
    "for test_feature in test_features:\n",
    "    fd2 = hog(test_feature.reshape((28, 28)), orientations=9, pixels_per_cell=(14, 14), cells_per_block=(1, 1), visualise=False)\n",
    "    list_hog_fd2.append(fd2)\n",
    "hog_test_features = np.array(list_hog_fd2, 'float64')\n",
    "b = hog_test_features"
   ]
  },
  {
   "cell_type": "markdown",
   "metadata": {},
   "source": [
    "# Iniciar el SVM"
   ]
  },
  {
   "cell_type": "code",
   "execution_count": 11,
   "metadata": {
    "collapsed": true
   },
   "outputs": [],
   "source": [
    "clf =  svm.SVC(kernel = 'linear')            #Iniciar SVM linear default\n",
    "clf.fit(hog_features,labels)                 #Entrenamiento SVM con 10,000 imagenes\n",
    "y_pred_svm = clf.predict(hog_test_features)  #Test SVM "
   ]
  },
  {
   "cell_type": "markdown",
   "metadata": {},
   "source": [
    "# Validacion y Prueba"
   ]
  },
  {
   "cell_type": "markdown",
   "metadata": {},
   "source": [
    "###  Prueba 1 : Precisión"
   ]
  },
  {
   "cell_type": "code",
   "execution_count": 12,
   "metadata": {
    "collapsed": false
   },
   "outputs": [
    {
     "name": "stdout",
     "output_type": "stream",
     "text": [
      "Precision SVM Lineal:  0.8958\n"
     ]
    }
   ],
   "source": [
    "acc_clf = accuracy_score(test_labels, y_pred_svm)      \n",
    "print \"Precision SVM Lineal: \",acc_clf"
   ]
  },
  {
   "cell_type": "markdown",
   "metadata": {},
   "source": [
    "###  Prueba 2 :Matriz de Clasificacion"
   ]
  },
  {
   "cell_type": "code",
   "execution_count": 13,
   "metadata": {
    "collapsed": false
   },
   "outputs": [
    {
     "name": "stdout",
     "output_type": "stream",
     "text": [
      "\n",
      " Matriz Clasificacion \n",
      "             precision    recall  f1-score   support\n",
      "\n",
      "          0       0.91      0.97      0.94       980\n",
      "          1       0.96      0.96      0.96      1135\n",
      "          2       0.85      0.91      0.88      1032\n",
      "          3       0.86      0.86      0.86      1010\n",
      "          4       0.89      0.87      0.88       982\n",
      "          5       0.94      0.90      0.92       892\n",
      "          6       0.91      0.92      0.91       958\n",
      "          7       0.92      0.88      0.90      1028\n",
      "          8       0.86      0.87      0.86       974\n",
      "          9       0.87      0.81      0.84      1009\n",
      "\n",
      "avg / total       0.90      0.90      0.90     10000\n",
      "\n",
      "\n"
     ]
    }
   ],
   "source": [
    "\n",
    "expected = test_labels\n",
    "predicted = y_pred_svm\n",
    "#print(\"Classification report for classifier %s:\\n%s\\n\"% (clf, metrics.classification_report(expected, predicted)))\n",
    "print(\"\\n Matriz Clasificacion \\n%s\\n\"% ( metrics.classification_report(expected, predicted)))"
   ]
  },
  {
   "cell_type": "markdown",
   "metadata": {},
   "source": [
    "###  Prueba 3 : Matriz de confusion"
   ]
  },
  {
   "cell_type": "code",
   "execution_count": 14,
   "metadata": {
    "collapsed": false
   },
   "outputs": [
    {
     "name": "stdout",
     "output_type": "stream",
     "text": [
      "Matriz de Confusion:\n",
      "[[ 949    5    3    0    4    1    3    2    2   11]\n",
      " [   4 1089    5    1   12    0   12    2    7    3]\n",
      " [   6    3  939   46   18    0    1    9    6    4]\n",
      " [  10    0   74  866    3   11    0   15    9   22]\n",
      " [  18   22   10    6  851    1   33    1   18   22]\n",
      " [   1    0    1   29    2  806    4    1   34   14]\n",
      " [   7    3    0    1   24    8  882    0   31    2]\n",
      " [   5    7   51   13    3    1    0  908   12   28]\n",
      " [  14    2   12    8   13    6   34   19  846   20]\n",
      " [  29    9    4   35   22   28    3   35   22  822]]\n"
     ]
    }
   ],
   "source": [
    "\n",
    "print(\"Matriz de Confusion:\\n%s\" % metrics.confusion_matrix(expected, predicted))"
   ]
  },
  {
   "cell_type": "markdown",
   "metadata": {},
   "source": [
    "###  Prueba 4 : Validacion cruzada - K-fold\n"
   ]
  },
  {
   "cell_type": "markdown",
   "metadata": {},
   "source": [
    "### Guardar SVM"
   ]
  },
  {
   "cell_type": "code",
   "execution_count": 18,
   "metadata": {
    "collapsed": false
   },
   "outputs": [
    {
     "data": {
      "text/plain": [
       "['clf_lineal.pkl']"
      ]
     },
     "execution_count": 18,
     "metadata": {},
     "output_type": "execute_result"
    }
   ],
   "source": [
    "joblib.dump(clf, \"clf_lineal.pkl\", compress=3)"
   ]
  },
  {
   "cell_type": "markdown",
   "metadata": {},
   "source": [
    "# Visualizar Base de datos "
   ]
  },
  {
   "cell_type": "code",
   "execution_count": 33,
   "metadata": {
    "collapsed": true
   },
   "outputs": [],
   "source": [
    "numero=999"
   ]
  },
  {
   "cell_type": "code",
   "execution_count": 36,
   "metadata": {
    "collapsed": false
   },
   "outputs": [
    {
     "data": {
      "image/png": "[encoded data removed]",
      "text/plain": [
       "<matplotlib.figure.Figure at 0x120c8588>"
      ]
     },
     "metadata": {},
     "output_type": "display_data"
    }
   ],
   "source": [
    "pd = test_features[numero]\n",
    "pd2 = test_labels[numero]\n",
    "plt.imshow(pd.reshape((28,28)),'gray')\n",
    "plt.show()"
   ]
  },
  {
   "cell_type": "code",
   "execution_count": 35,
   "metadata": {
    "collapsed": false
   },
   "outputs": [
    {
     "name": "stdout",
     "output_type": "stream",
     "text": [
      "('la prediccion es :9 conside con la etiqueta ', 9)\n"
     ]
    }
   ],
   "source": [
    "fd1= hog(pd.reshape((28, 28)), orientations=9, pixels_per_cell=(14, 14), cells_per_block=(1, 1), visualise=False)\n",
    "nbr = clf.predict(np.array([fd1], 'float64'))\n",
    "snum=str(int(nbr))\n",
    "print(\"la prediccion es :%s\"%snum +' conside con la etiqueta ',pd2)"
   ]
  },
  {
   "cell_type": "code",
   "execution_count": null,
   "metadata": {
    "collapsed": true
   },
   "outputs": [],
   "source": []
  },
  {
   "cell_type": "code",
   "execution_count": null,
   "metadata": {
    "collapsed": true
   },
   "outputs": [],
   "source": []
  },
  {
   "cell_type": "code",
   "execution_count": null,
   "metadata": {
    "collapsed": true
   },
   "outputs": [],
   "source": []
  }
 ],
 "metadata": {
  "anaconda-cloud": {},
  "kernelspec": {
   "display_name": "Python [conda root]",
   "language": "python",
   "name": "conda-root-py"
  },
  "language_info": {
   "codemirror_mode": {
    "name": "ipython",
    "version": 2
   },
   "file_extension": ".py",
   "mimetype": "text/x-python",
   "name": "python",
   "nbconvert_exporter": "python",
   "pygments_lexer": "ipython2",
   "version": "2.7.12"
  }
 },
 "nbformat": 4,
 "nbformat_minor": 1
}
